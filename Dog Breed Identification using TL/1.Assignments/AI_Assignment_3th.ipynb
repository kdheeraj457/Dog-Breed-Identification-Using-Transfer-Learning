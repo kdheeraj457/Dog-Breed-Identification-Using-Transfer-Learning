{
  "cells": [
    {
      "cell_type": "markdown",
      "id": "61f56c13-f751-4ac2-9c2f-bf3b8cd8088b",
      "metadata": {
        "id": "61f56c13-f751-4ac2-9c2f-bf3b8cd8088b"
      },
      "source": [
        "## Task :  Build an ANN model for Drug classification"
      ]
    },
    {
      "cell_type": "markdown",
      "source": [
        "Import libraires\n"
      ],
      "metadata": {
        "id": "EBZpPWCRilck"
      },
      "id": "EBZpPWCRilck"
    },
    {
      "cell_type": "code",
      "execution_count": 1,
      "id": "1f6f2d50-1c5d-44ba-8c4b-b643b811d51b",
      "metadata": {
        "id": "1f6f2d50-1c5d-44ba-8c4b-b643b811d51b"
      },
      "outputs": [],
      "source": [
        "# importing all the neccessary libraires\n",
        "import pandas as pd\n",
        "import numpy as np\n",
        "import matplotlib.pyplot as plt\n",
        "import seaborn as sns"
      ]
    },
    {
      "cell_type": "markdown",
      "source": [
        "Load Dataset"
      ],
      "metadata": {
        "id": "AGdRAjDFirJJ"
      },
      "id": "AGdRAjDFirJJ"
    },
    {
      "cell_type": "code",
      "execution_count": 3,
      "id": "7513ab15-4744-4896-b5f7-4f079fa985ac",
      "metadata": {
        "colab": {
          "base_uri": "https://localhost:8080/",
          "height": 423
        },
        "id": "7513ab15-4744-4896-b5f7-4f079fa985ac",
        "outputId": "9d24d5d1-1d48-4115-b9f6-7b64ed83220a"
      },
      "outputs": [
        {
          "output_type": "execute_result",
          "data": {
            "text/plain": [
              "     Age Sex      BP Cholesterol  Na_to_K   Drug\n",
              "0     23   F    HIGH        HIGH   25.355  DrugY\n",
              "1     47   M     LOW        HIGH   13.093  drugC\n",
              "2     47   M     LOW        HIGH   10.114  drugC\n",
              "3     28   F  NORMAL        HIGH    7.798  drugX\n",
              "4     61   F     LOW        HIGH   18.043  DrugY\n",
              "..   ...  ..     ...         ...      ...    ...\n",
              "195   56   F     LOW        HIGH   11.567  drugC\n",
              "196   16   M     LOW        HIGH   12.006  drugC\n",
              "197   52   M  NORMAL        HIGH    9.894  drugX\n",
              "198   23   M  NORMAL      NORMAL   14.020  drugX\n",
              "199   40   F     LOW      NORMAL   11.349  drugX\n",
              "\n",
              "[200 rows x 6 columns]"
            ],
            "text/html": [
              "\n",
              "  <div id=\"df-ca0e1316-df8b-49e8-a4d5-6b0aec9c0617\" class=\"colab-df-container\">\n",
              "    <div>\n",
              "<style scoped>\n",
              "    .dataframe tbody tr th:only-of-type {\n",
              "        vertical-align: middle;\n",
              "    }\n",
              "\n",
              "    .dataframe tbody tr th {\n",
              "        vertical-align: top;\n",
              "    }\n",
              "\n",
              "    .dataframe thead th {\n",
              "        text-align: right;\n",
              "    }\n",
              "</style>\n",
              "<table border=\"1\" class=\"dataframe\">\n",
              "  <thead>\n",
              "    <tr style=\"text-align: right;\">\n",
              "      <th></th>\n",
              "      <th>Age</th>\n",
              "      <th>Sex</th>\n",
              "      <th>BP</th>\n",
              "      <th>Cholesterol</th>\n",
              "      <th>Na_to_K</th>\n",
              "      <th>Drug</th>\n",
              "    </tr>\n",
              "  </thead>\n",
              "  <tbody>\n",
              "    <tr>\n",
              "      <th>0</th>\n",
              "      <td>23</td>\n",
              "      <td>F</td>\n",
              "      <td>HIGH</td>\n",
              "      <td>HIGH</td>\n",
              "      <td>25.355</td>\n",
              "      <td>DrugY</td>\n",
              "    </tr>\n",
              "    <tr>\n",
              "      <th>1</th>\n",
              "      <td>47</td>\n",
              "      <td>M</td>\n",
              "      <td>LOW</td>\n",
              "      <td>HIGH</td>\n",
              "      <td>13.093</td>\n",
              "      <td>drugC</td>\n",
              "    </tr>\n",
              "    <tr>\n",
              "      <th>2</th>\n",
              "      <td>47</td>\n",
              "      <td>M</td>\n",
              "      <td>LOW</td>\n",
              "      <td>HIGH</td>\n",
              "      <td>10.114</td>\n",
              "      <td>drugC</td>\n",
              "    </tr>\n",
              "    <tr>\n",
              "      <th>3</th>\n",
              "      <td>28</td>\n",
              "      <td>F</td>\n",
              "      <td>NORMAL</td>\n",
              "      <td>HIGH</td>\n",
              "      <td>7.798</td>\n",
              "      <td>drugX</td>\n",
              "    </tr>\n",
              "    <tr>\n",
              "      <th>4</th>\n",
              "      <td>61</td>\n",
              "      <td>F</td>\n",
              "      <td>LOW</td>\n",
              "      <td>HIGH</td>\n",
              "      <td>18.043</td>\n",
              "      <td>DrugY</td>\n",
              "    </tr>\n",
              "    <tr>\n",
              "      <th>...</th>\n",
              "      <td>...</td>\n",
              "      <td>...</td>\n",
              "      <td>...</td>\n",
              "      <td>...</td>\n",
              "      <td>...</td>\n",
              "      <td>...</td>\n",
              "    </tr>\n",
              "    <tr>\n",
              "      <th>195</th>\n",
              "      <td>56</td>\n",
              "      <td>F</td>\n",
              "      <td>LOW</td>\n",
              "      <td>HIGH</td>\n",
              "      <td>11.567</td>\n",
              "      <td>drugC</td>\n",
              "    </tr>\n",
              "    <tr>\n",
              "      <th>196</th>\n",
              "      <td>16</td>\n",
              "      <td>M</td>\n",
              "      <td>LOW</td>\n",
              "      <td>HIGH</td>\n",
              "      <td>12.006</td>\n",
              "      <td>drugC</td>\n",
              "    </tr>\n",
              "    <tr>\n",
              "      <th>197</th>\n",
              "      <td>52</td>\n",
              "      <td>M</td>\n",
              "      <td>NORMAL</td>\n",
              "      <td>HIGH</td>\n",
              "      <td>9.894</td>\n",
              "      <td>drugX</td>\n",
              "    </tr>\n",
              "    <tr>\n",
              "      <th>198</th>\n",
              "      <td>23</td>\n",
              "      <td>M</td>\n",
              "      <td>NORMAL</td>\n",
              "      <td>NORMAL</td>\n",
              "      <td>14.020</td>\n",
              "      <td>drugX</td>\n",
              "    </tr>\n",
              "    <tr>\n",
              "      <th>199</th>\n",
              "      <td>40</td>\n",
              "      <td>F</td>\n",
              "      <td>LOW</td>\n",
              "      <td>NORMAL</td>\n",
              "      <td>11.349</td>\n",
              "      <td>drugX</td>\n",
              "    </tr>\n",
              "  </tbody>\n",
              "</table>\n",
              "<p>200 rows × 6 columns</p>\n",
              "</div>\n",
              "    <div class=\"colab-df-buttons\">\n",
              "\n",
              "  <div class=\"colab-df-container\">\n",
              "    <button class=\"colab-df-convert\" onclick=\"convertToInteractive('df-ca0e1316-df8b-49e8-a4d5-6b0aec9c0617')\"\n",
              "            title=\"Convert this dataframe to an interactive table.\"\n",
              "            style=\"display:none;\">\n",
              "\n",
              "  <svg xmlns=\"http://www.w3.org/2000/svg\" height=\"24px\" viewBox=\"0 -960 960 960\">\n",
              "    <path d=\"M120-120v-720h720v720H120Zm60-500h600v-160H180v160Zm220 220h160v-160H400v160Zm0 220h160v-160H400v160ZM180-400h160v-160H180v160Zm440 0h160v-160H620v160ZM180-180h160v-160H180v160Zm440 0h160v-160H620v160Z\"/>\n",
              "  </svg>\n",
              "    </button>\n",
              "\n",
              "  <style>\n",
              "    .colab-df-container {\n",
              "      display:flex;\n",
              "      gap: 12px;\n",
              "    }\n",
              "\n",
              "    .colab-df-convert {\n",
              "      background-color: #E8F0FE;\n",
              "      border: none;\n",
              "      border-radius: 50%;\n",
              "      cursor: pointer;\n",
              "      display: none;\n",
              "      fill: #1967D2;\n",
              "      height: 32px;\n",
              "      padding: 0 0 0 0;\n",
              "      width: 32px;\n",
              "    }\n",
              "\n",
              "    .colab-df-convert:hover {\n",
              "      background-color: #E2EBFA;\n",
              "      box-shadow: 0px 1px 2px rgba(60, 64, 67, 0.3), 0px 1px 3px 1px rgba(60, 64, 67, 0.15);\n",
              "      fill: #174EA6;\n",
              "    }\n",
              "\n",
              "    .colab-df-buttons div {\n",
              "      margin-bottom: 4px;\n",
              "    }\n",
              "\n",
              "    [theme=dark] .colab-df-convert {\n",
              "      background-color: #3B4455;\n",
              "      fill: #D2E3FC;\n",
              "    }\n",
              "\n",
              "    [theme=dark] .colab-df-convert:hover {\n",
              "      background-color: #434B5C;\n",
              "      box-shadow: 0px 1px 3px 1px rgba(0, 0, 0, 0.15);\n",
              "      filter: drop-shadow(0px 1px 2px rgba(0, 0, 0, 0.3));\n",
              "      fill: #FFFFFF;\n",
              "    }\n",
              "  </style>\n",
              "\n",
              "    <script>\n",
              "      const buttonEl =\n",
              "        document.querySelector('#df-ca0e1316-df8b-49e8-a4d5-6b0aec9c0617 button.colab-df-convert');\n",
              "      buttonEl.style.display =\n",
              "        google.colab.kernel.accessAllowed ? 'block' : 'none';\n",
              "\n",
              "      async function convertToInteractive(key) {\n",
              "        const element = document.querySelector('#df-ca0e1316-df8b-49e8-a4d5-6b0aec9c0617');\n",
              "        const dataTable =\n",
              "          await google.colab.kernel.invokeFunction('convertToInteractive',\n",
              "                                                    [key], {});\n",
              "        if (!dataTable) return;\n",
              "\n",
              "        const docLinkHtml = 'Like what you see? Visit the ' +\n",
              "          '<a target=\"_blank\" href=https://colab.research.google.com/notebooks/data_table.ipynb>data table notebook</a>'\n",
              "          + ' to learn more about interactive tables.';\n",
              "        element.innerHTML = '';\n",
              "        dataTable['output_type'] = 'display_data';\n",
              "        await google.colab.output.renderOutput(dataTable, element);\n",
              "        const docLink = document.createElement('div');\n",
              "        docLink.innerHTML = docLinkHtml;\n",
              "        element.appendChild(docLink);\n",
              "      }\n",
              "    </script>\n",
              "  </div>\n",
              "\n",
              "\n",
              "<div id=\"df-c5204a7b-24f3-46da-881b-f70bec12fdc9\">\n",
              "  <button class=\"colab-df-quickchart\" onclick=\"quickchart('df-c5204a7b-24f3-46da-881b-f70bec12fdc9')\"\n",
              "            title=\"Suggest charts\"\n",
              "            style=\"display:none;\">\n",
              "\n",
              "<svg xmlns=\"http://www.w3.org/2000/svg\" height=\"24px\"viewBox=\"0 0 24 24\"\n",
              "     width=\"24px\">\n",
              "    <g>\n",
              "        <path d=\"M19 3H5c-1.1 0-2 .9-2 2v14c0 1.1.9 2 2 2h14c1.1 0 2-.9 2-2V5c0-1.1-.9-2-2-2zM9 17H7v-7h2v7zm4 0h-2V7h2v10zm4 0h-2v-4h2v4z\"/>\n",
              "    </g>\n",
              "</svg>\n",
              "  </button>\n",
              "\n",
              "<style>\n",
              "  .colab-df-quickchart {\n",
              "      --bg-color: #E8F0FE;\n",
              "      --fill-color: #1967D2;\n",
              "      --hover-bg-color: #E2EBFA;\n",
              "      --hover-fill-color: #174EA6;\n",
              "      --disabled-fill-color: #AAA;\n",
              "      --disabled-bg-color: #DDD;\n",
              "  }\n",
              "\n",
              "  [theme=dark] .colab-df-quickchart {\n",
              "      --bg-color: #3B4455;\n",
              "      --fill-color: #D2E3FC;\n",
              "      --hover-bg-color: #434B5C;\n",
              "      --hover-fill-color: #FFFFFF;\n",
              "      --disabled-bg-color: #3B4455;\n",
              "      --disabled-fill-color: #666;\n",
              "  }\n",
              "\n",
              "  .colab-df-quickchart {\n",
              "    background-color: var(--bg-color);\n",
              "    border: none;\n",
              "    border-radius: 50%;\n",
              "    cursor: pointer;\n",
              "    display: none;\n",
              "    fill: var(--fill-color);\n",
              "    height: 32px;\n",
              "    padding: 0;\n",
              "    width: 32px;\n",
              "  }\n",
              "\n",
              "  .colab-df-quickchart:hover {\n",
              "    background-color: var(--hover-bg-color);\n",
              "    box-shadow: 0 1px 2px rgba(60, 64, 67, 0.3), 0 1px 3px 1px rgba(60, 64, 67, 0.15);\n",
              "    fill: var(--button-hover-fill-color);\n",
              "  }\n",
              "\n",
              "  .colab-df-quickchart-complete:disabled,\n",
              "  .colab-df-quickchart-complete:disabled:hover {\n",
              "    background-color: var(--disabled-bg-color);\n",
              "    fill: var(--disabled-fill-color);\n",
              "    box-shadow: none;\n",
              "  }\n",
              "\n",
              "  .colab-df-spinner {\n",
              "    border: 2px solid var(--fill-color);\n",
              "    border-color: transparent;\n",
              "    border-bottom-color: var(--fill-color);\n",
              "    animation:\n",
              "      spin 1s steps(1) infinite;\n",
              "  }\n",
              "\n",
              "  @keyframes spin {\n",
              "    0% {\n",
              "      border-color: transparent;\n",
              "      border-bottom-color: var(--fill-color);\n",
              "      border-left-color: var(--fill-color);\n",
              "    }\n",
              "    20% {\n",
              "      border-color: transparent;\n",
              "      border-left-color: var(--fill-color);\n",
              "      border-top-color: var(--fill-color);\n",
              "    }\n",
              "    30% {\n",
              "      border-color: transparent;\n",
              "      border-left-color: var(--fill-color);\n",
              "      border-top-color: var(--fill-color);\n",
              "      border-right-color: var(--fill-color);\n",
              "    }\n",
              "    40% {\n",
              "      border-color: transparent;\n",
              "      border-right-color: var(--fill-color);\n",
              "      border-top-color: var(--fill-color);\n",
              "    }\n",
              "    60% {\n",
              "      border-color: transparent;\n",
              "      border-right-color: var(--fill-color);\n",
              "    }\n",
              "    80% {\n",
              "      border-color: transparent;\n",
              "      border-right-color: var(--fill-color);\n",
              "      border-bottom-color: var(--fill-color);\n",
              "    }\n",
              "    90% {\n",
              "      border-color: transparent;\n",
              "      border-bottom-color: var(--fill-color);\n",
              "    }\n",
              "  }\n",
              "</style>\n",
              "\n",
              "  <script>\n",
              "    async function quickchart(key) {\n",
              "      const quickchartButtonEl =\n",
              "        document.querySelector('#' + key + ' button');\n",
              "      quickchartButtonEl.disabled = true;  // To prevent multiple clicks.\n",
              "      quickchartButtonEl.classList.add('colab-df-spinner');\n",
              "      try {\n",
              "        const charts = await google.colab.kernel.invokeFunction(\n",
              "            'suggestCharts', [key], {});\n",
              "      } catch (error) {\n",
              "        console.error('Error during call to suggestCharts:', error);\n",
              "      }\n",
              "      quickchartButtonEl.classList.remove('colab-df-spinner');\n",
              "      quickchartButtonEl.classList.add('colab-df-quickchart-complete');\n",
              "    }\n",
              "    (() => {\n",
              "      let quickchartButtonEl =\n",
              "        document.querySelector('#df-c5204a7b-24f3-46da-881b-f70bec12fdc9 button');\n",
              "      quickchartButtonEl.style.display =\n",
              "        google.colab.kernel.accessAllowed ? 'block' : 'none';\n",
              "    })();\n",
              "  </script>\n",
              "</div>\n",
              "\n",
              "  <div id=\"id_8f964d7c-8539-43cb-ac48-4914b079ced6\">\n",
              "    <style>\n",
              "      .colab-df-generate {\n",
              "        background-color: #E8F0FE;\n",
              "        border: none;\n",
              "        border-radius: 50%;\n",
              "        cursor: pointer;\n",
              "        display: none;\n",
              "        fill: #1967D2;\n",
              "        height: 32px;\n",
              "        padding: 0 0 0 0;\n",
              "        width: 32px;\n",
              "      }\n",
              "\n",
              "      .colab-df-generate:hover {\n",
              "        background-color: #E2EBFA;\n",
              "        box-shadow: 0px 1px 2px rgba(60, 64, 67, 0.3), 0px 1px 3px 1px rgba(60, 64, 67, 0.15);\n",
              "        fill: #174EA6;\n",
              "      }\n",
              "\n",
              "      [theme=dark] .colab-df-generate {\n",
              "        background-color: #3B4455;\n",
              "        fill: #D2E3FC;\n",
              "      }\n",
              "\n",
              "      [theme=dark] .colab-df-generate:hover {\n",
              "        background-color: #434B5C;\n",
              "        box-shadow: 0px 1px 3px 1px rgba(0, 0, 0, 0.15);\n",
              "        filter: drop-shadow(0px 1px 2px rgba(0, 0, 0, 0.3));\n",
              "        fill: #FFFFFF;\n",
              "      }\n",
              "    </style>\n",
              "    <button class=\"colab-df-generate\" onclick=\"generateWithVariable('drugs_df')\"\n",
              "            title=\"Generate code using this dataframe.\"\n",
              "            style=\"display:none;\">\n",
              "\n",
              "  <svg xmlns=\"http://www.w3.org/2000/svg\" height=\"24px\"viewBox=\"0 0 24 24\"\n",
              "       width=\"24px\">\n",
              "    <path d=\"M7,19H8.4L18.45,9,17,7.55,7,17.6ZM5,21V16.75L18.45,3.32a2,2,0,0,1,2.83,0l1.4,1.43a1.91,1.91,0,0,1,.58,1.4,1.91,1.91,0,0,1-.58,1.4L9.25,21ZM18.45,9,17,7.55Zm-12,3A5.31,5.31,0,0,0,4.9,8.1,5.31,5.31,0,0,0,1,6.5,5.31,5.31,0,0,0,4.9,4.9,5.31,5.31,0,0,0,6.5,1,5.31,5.31,0,0,0,8.1,4.9,5.31,5.31,0,0,0,12,6.5,5.46,5.46,0,0,0,6.5,12Z\"/>\n",
              "  </svg>\n",
              "    </button>\n",
              "    <script>\n",
              "      (() => {\n",
              "      const buttonEl =\n",
              "        document.querySelector('#id_8f964d7c-8539-43cb-ac48-4914b079ced6 button.colab-df-generate');\n",
              "      buttonEl.style.display =\n",
              "        google.colab.kernel.accessAllowed ? 'block' : 'none';\n",
              "\n",
              "      buttonEl.onclick = () => {\n",
              "        google.colab.notebook.generateWithVariable('drugs_df');\n",
              "      }\n",
              "      })();\n",
              "    </script>\n",
              "  </div>\n",
              "\n",
              "    </div>\n",
              "  </div>\n"
            ],
            "application/vnd.google.colaboratory.intrinsic+json": {
              "type": "dataframe",
              "variable_name": "drugs_df",
              "summary": "{\n  \"name\": \"drugs_df\",\n  \"rows\": 200,\n  \"fields\": [\n    {\n      \"column\": \"Age\",\n      \"properties\": {\n        \"dtype\": \"number\",\n        \"std\": 16,\n        \"min\": 15,\n        \"max\": 74,\n        \"num_unique_values\": 57,\n        \"samples\": [\n          23,\n          49,\n          37\n        ],\n        \"semantic_type\": \"\",\n        \"description\": \"\"\n      }\n    },\n    {\n      \"column\": \"Sex\",\n      \"properties\": {\n        \"dtype\": \"category\",\n        \"num_unique_values\": 2,\n        \"samples\": [\n          \"M\",\n          \"F\"\n        ],\n        \"semantic_type\": \"\",\n        \"description\": \"\"\n      }\n    },\n    {\n      \"column\": \"BP\",\n      \"properties\": {\n        \"dtype\": \"category\",\n        \"num_unique_values\": 3,\n        \"samples\": [\n          \"HIGH\",\n          \"LOW\"\n        ],\n        \"semantic_type\": \"\",\n        \"description\": \"\"\n      }\n    },\n    {\n      \"column\": \"Cholesterol\",\n      \"properties\": {\n        \"dtype\": \"category\",\n        \"num_unique_values\": 2,\n        \"samples\": [\n          \"NORMAL\",\n          \"HIGH\"\n        ],\n        \"semantic_type\": \"\",\n        \"description\": \"\"\n      }\n    },\n    {\n      \"column\": \"Na_to_K\",\n      \"properties\": {\n        \"dtype\": \"number\",\n        \"std\": 7.223955528459516,\n        \"min\": 6.269,\n        \"max\": 38.247,\n        \"num_unique_values\": 198,\n        \"samples\": [\n          27.05,\n          9.281\n        ],\n        \"semantic_type\": \"\",\n        \"description\": \"\"\n      }\n    },\n    {\n      \"column\": \"Drug\",\n      \"properties\": {\n        \"dtype\": \"category\",\n        \"num_unique_values\": 5,\n        \"samples\": [\n          \"drugC\",\n          \"drugB\"\n        ],\n        \"semantic_type\": \"\",\n        \"description\": \"\"\n      }\n    }\n  ]\n}"
            }
          },
          "metadata": {},
          "execution_count": 3
        }
      ],
      "source": [
        "# reading the csv file\n",
        "drugs_df = pd.read_csv('drug200.csv')\n",
        "drugs_df"
      ]
    },
    {
      "cell_type": "markdown",
      "source": [
        "Display Head"
      ],
      "metadata": {
        "id": "wuJkms66ivHU"
      },
      "id": "wuJkms66ivHU"
    },
    {
      "cell_type": "code",
      "execution_count": null,
      "id": "25e4c59a-ef92-4ecb-900a-dfa68b086faf",
      "metadata": {
        "id": "25e4c59a-ef92-4ecb-900a-dfa68b086faf"
      },
      "outputs": [],
      "source": [
        "# displaying the first 5 records\n",
        "drugs_df.head()"
      ]
    },
    {
      "cell_type": "markdown",
      "source": [
        "Display Tail"
      ],
      "metadata": {
        "id": "7YNSoQ2riz0u"
      },
      "id": "7YNSoQ2riz0u"
    },
    {
      "cell_type": "code",
      "execution_count": null,
      "id": "93be5f5e-cbc0-4a37-af77-5eb2af51e574",
      "metadata": {
        "id": "93be5f5e-cbc0-4a37-af77-5eb2af51e574"
      },
      "outputs": [],
      "source": [
        "# displaying the last 5 records\n",
        "drugs_df.tail()"
      ]
    },
    {
      "cell_type": "markdown",
      "source": [
        "Size of dataset"
      ],
      "metadata": {
        "id": "JXSrL8tWi3Eh"
      },
      "id": "JXSrL8tWi3Eh"
    },
    {
      "cell_type": "code",
      "execution_count": null,
      "id": "72b8fe7c-d68b-4371-9d5f-93fbc7acf376",
      "metadata": {
        "id": "72b8fe7c-d68b-4371-9d5f-93fbc7acf376"
      },
      "outputs": [],
      "source": [
        "# size of the dataset\n",
        "drugs_df.shape"
      ]
    },
    {
      "cell_type": "markdown",
      "source": [
        "Checking Data Types of Dataset"
      ],
      "metadata": {
        "id": "m1AZYwVmi5oG"
      },
      "id": "m1AZYwVmi5oG"
    },
    {
      "cell_type": "code",
      "execution_count": null,
      "id": "a328d39e-b949-4a9f-8d1c-26aa808234d2",
      "metadata": {
        "id": "a328d39e-b949-4a9f-8d1c-26aa808234d2"
      },
      "outputs": [],
      "source": [
        "# data types of the dataset\n",
        "drugs_df.dtypes"
      ]
    },
    {
      "cell_type": "code",
      "execution_count": null,
      "id": "564b53a6-e429-48ea-b0e3-14e0dff33fc5",
      "metadata": {
        "id": "564b53a6-e429-48ea-b0e3-14e0dff33fc5"
      },
      "outputs": [],
      "source": [
        "# unique values in a dataset\n",
        "drugs_df[\"Drug\"].sort_values(ascending=True).unique()\n",
        "# five types of drugs"
      ]
    },
    {
      "cell_type": "code",
      "execution_count": null,
      "id": "6b1d8361-b84a-4e20-b03a-737d5c300682",
      "metadata": {
        "id": "6b1d8361-b84a-4e20-b03a-737d5c300682"
      },
      "outputs": [],
      "source": [
        "# replacing the DrugY by drugY\n",
        "drugs_df[\"Drug\"].replace({'DrugY':'drugY'},inplace=True)"
      ]
    },
    {
      "cell_type": "code",
      "execution_count": null,
      "id": "5102e9ad-fb61-4648-b997-c986e2919bfe",
      "metadata": {
        "id": "5102e9ad-fb61-4648-b997-c986e2919bfe"
      },
      "outputs": [],
      "source": [
        "# get the five point summary\n",
        "drugs_df.describe()"
      ]
    },
    {
      "cell_type": "markdown",
      "source": [
        "Checking missing Values"
      ],
      "metadata": {
        "id": "q-8yBHTmjFTn"
      },
      "id": "q-8yBHTmjFTn"
    },
    {
      "cell_type": "code",
      "execution_count": null,
      "id": "2d3be306-67c0-4022-9048-51af32a6ac87",
      "metadata": {
        "id": "2d3be306-67c0-4022-9048-51af32a6ac87"
      },
      "outputs": [],
      "source": [
        "# checking for missing values\n",
        "drugs_df.isnull().sum()"
      ]
    },
    {
      "cell_type": "code",
      "execution_count": null,
      "id": "00f2b00c-10df-4b67-bc85-07698ff8976e",
      "metadata": {
        "id": "00f2b00c-10df-4b67-bc85-07698ff8976e"
      },
      "outputs": [],
      "source": [
        "# Checking for duplicates\n",
        "drugs_df.duplicated()"
      ]
    },
    {
      "cell_type": "code",
      "execution_count": null,
      "id": "fe8a3192-abc0-460b-a77a-f7df8d28fc58",
      "metadata": {
        "id": "fe8a3192-abc0-460b-a77a-f7df8d28fc58"
      },
      "outputs": [],
      "source": [
        "# columns in the dataset\n",
        "drugs_df.columns"
      ]
    },
    {
      "cell_type": "code",
      "execution_count": null,
      "id": "6d084db3-af13-440b-94f5-6799b38d7baf",
      "metadata": {
        "id": "6d084db3-af13-440b-94f5-6799b38d7baf"
      },
      "outputs": [],
      "source": [
        "# value count\n",
        "drugs_df[\"Drug\"].value_counts()"
      ]
    },
    {
      "cell_type": "markdown",
      "source": [
        "Checking Frequency"
      ],
      "metadata": {
        "id": "fI00XbthjMa5"
      },
      "id": "fI00XbthjMa5"
    },
    {
      "cell_type": "code",
      "execution_count": null,
      "id": "2ad8863b-0fed-44a5-a3dc-ff328334e26b",
      "metadata": {
        "id": "2ad8863b-0fed-44a5-a3dc-ff328334e26b"
      },
      "outputs": [],
      "source": [
        "# frequency of the drugs\n",
        "sns.countplot(x=drugs_df[\"Drug\"])"
      ]
    },
    {
      "cell_type": "markdown",
      "source": [
        "Visualization"
      ],
      "metadata": {
        "id": "SJyQMKdPjRE4"
      },
      "id": "SJyQMKdPjRE4"
    },
    {
      "cell_type": "code",
      "execution_count": null,
      "id": "fa1d5e8f-641d-45cd-bb5a-b6cbb0560490",
      "metadata": {
        "id": "fa1d5e8f-641d-45cd-bb5a-b6cbb0560490"
      },
      "outputs": [],
      "source": [
        "# matplotlib\n",
        "plt.figure(figsize=(10,6))\n",
        "\n",
        "plt.subplot(2,2,1)\n",
        "plt.scatter(y=drugs_df[\"Drug\"],x=drugs_df[\"Age\"])\n",
        "\n",
        "plt.subplot(2,2,2)\n",
        "plt.scatter(y=drugs_df[\"Drug\"],x=drugs_df[\"Cholesterol\"])\n",
        "\n",
        "plt.subplot(2,2,3)\n",
        "plt.scatter(y=drugs_df[\"Drug\"],x=drugs_df[\"BP\"])\n",
        "\n",
        "plt.subplot(2,2,4)\n",
        "plt.scatter(y=drugs_df[\"Drug\"],x=drugs_df[\"BP\"])"
      ]
    },
    {
      "cell_type": "code",
      "execution_count": null,
      "id": "c2f35dc4-2abe-4423-b375-94baa7dcf3bd",
      "metadata": {
        "id": "c2f35dc4-2abe-4423-b375-94baa7dcf3bd"
      },
      "outputs": [],
      "source": [
        "drug=drugs_df[\"Drug\"]==\"drugY\"\n",
        "drugs_df.loc[drug]"
      ]
    },
    {
      "cell_type": "markdown",
      "source": [
        "Scatter Plot"
      ],
      "metadata": {
        "id": "SRPLCzeJjg-L"
      },
      "id": "SRPLCzeJjg-L"
    },
    {
      "cell_type": "code",
      "execution_count": null,
      "id": "c38a4a3e-0a45-4c63-924c-cabe33af7d60",
      "metadata": {
        "id": "c38a4a3e-0a45-4c63-924c-cabe33af7d60"
      },
      "outputs": [],
      "source": [
        "plt.scatter(x=drugs_df[\"Drug\"],y=drugs_df[\"Cholesterol\"])"
      ]
    },
    {
      "cell_type": "markdown",
      "source": [
        "Box Plot"
      ],
      "metadata": {
        "id": "TXyN41iujei4"
      },
      "id": "TXyN41iujei4"
    },
    {
      "cell_type": "code",
      "execution_count": null,
      "id": "469bc5a1-1315-4725-a306-04c0c4a21dd7",
      "metadata": {
        "id": "469bc5a1-1315-4725-a306-04c0c4a21dd7"
      },
      "outputs": [],
      "source": [
        "sns.boxplot(drugs_df[\"Na_to_K\"])"
      ]
    },
    {
      "cell_type": "code",
      "execution_count": null,
      "id": "c9fdc74f-69eb-42ed-a212-e89abcca5e2e",
      "metadata": {
        "id": "c9fdc74f-69eb-42ed-a212-e89abcca5e2e"
      },
      "outputs": [],
      "source": [
        "# print the categories present in the columns\n",
        "print(drugs_df[\"Sex\"].value_counts())\n",
        "print(drugs_df[\"BP\"].value_counts())\n",
        "print(drugs_df[\"Cholesterol\"].value_counts())"
      ]
    },
    {
      "cell_type": "code",
      "execution_count": null,
      "id": "49922b8d-1b51-40b9-a588-d68c519f2a3a",
      "metadata": {
        "id": "49922b8d-1b51-40b9-a588-d68c519f2a3a"
      },
      "outputs": [],
      "source": [
        "plt.scatter(y=drugs_df[\"Age\"],x=drugs_df[\"Na_to_K\"])"
      ]
    },
    {
      "cell_type": "code",
      "execution_count": null,
      "id": "c90851e4-d81f-4f1f-b234-875d280c0ea6",
      "metadata": {
        "id": "c90851e4-d81f-4f1f-b234-875d280c0ea6"
      },
      "outputs": [],
      "source": [
        "drugs_df[\"Na_to_K\"].sort_values(ascending=True).values\n"
      ]
    },
    {
      "cell_type": "code",
      "execution_count": null,
      "id": "600710f2-a714-44b3-863d-f69b5ad21b72",
      "metadata": {
        "id": "600710f2-a714-44b3-863d-f69b5ad21b72"
      },
      "outputs": [],
      "source": [
        "outliers=drugs_df[\"Na_to_K\"]>=31\n",
        "drugs_df.loc[outliers]\n"
      ]
    },
    {
      "cell_type": "code",
      "execution_count": null,
      "id": "f7e562e6-bb86-4669-9d21-d85d86017195",
      "metadata": {
        "id": "f7e562e6-bb86-4669-9d21-d85d86017195"
      },
      "outputs": [],
      "source": [
        "drugs_df.drop([131,96, 98, 184,188,194,24,128,65,23], inplace=True)\n"
      ]
    },
    {
      "cell_type": "code",
      "execution_count": null,
      "id": "c1a68931-5e6e-4278-b7cd-48c5c40149e2",
      "metadata": {
        "id": "c1a68931-5e6e-4278-b7cd-48c5c40149e2"
      },
      "outputs": [],
      "source": [
        "sns.boxplot(drugs_df[\"Na_to_K\"])"
      ]
    },
    {
      "cell_type": "code",
      "execution_count": null,
      "id": "5ccc0147-0175-4465-aa72-4593295a1bd8",
      "metadata": {
        "id": "5ccc0147-0175-4465-aa72-4593295a1bd8"
      },
      "outputs": [],
      "source": [
        "data= drugs_df[\"Na_to_K\"]>=30 & (drugs_df[\"Age\"]==20)\n",
        "drugs_df.loc[data]"
      ]
    },
    {
      "cell_type": "code",
      "execution_count": null,
      "id": "e03a8593-22e5-4ad3-b119-594da7ad8219",
      "metadata": {
        "id": "e03a8593-22e5-4ad3-b119-594da7ad8219"
      },
      "outputs": [],
      "source": [
        "print(drugs_df[\"Na_to_K\"].min())\n",
        "print(drugs_df[\"Na_to_K\"].mean())\n",
        "print(drugs_df[\"Na_to_K\"].max())\n",
        "print(drugs_df[\"Age\"].min())\n",
        "print(drugs_df[\"Age\"].max())"
      ]
    },
    {
      "cell_type": "code",
      "execution_count": null,
      "id": "7df1d181-103d-4095-9061-34c2b95a0f80",
      "metadata": {
        "id": "7df1d181-103d-4095-9061-34c2b95a0f80"
      },
      "outputs": [],
      "source": [
        "print(plt.scatter(x=drugs_df[\"BP\"],y=drugs_df[\"Na_to_K\"]))\n"
      ]
    },
    {
      "cell_type": "code",
      "execution_count": null,
      "id": "47445106-e6b6-411f-95ab-a39d1f25c305",
      "metadata": {
        "id": "47445106-e6b6-411f-95ab-a39d1f25c305"
      },
      "outputs": [],
      "source": [
        "drugs_df[\"Sex\"].value_counts()"
      ]
    },
    {
      "cell_type": "code",
      "execution_count": null,
      "id": "1bc38f6e-945e-4250-9329-398df1945d28",
      "metadata": {
        "id": "1bc38f6e-945e-4250-9329-398df1945d28"
      },
      "outputs": [],
      "source": [
        "sns.countplot(drugs_df[\"Sex\"])"
      ]
    },
    {
      "cell_type": "code",
      "execution_count": null,
      "id": "676d0730-becf-42e2-a64d-a1f92f2e14f4",
      "metadata": {
        "id": "676d0730-becf-42e2-a64d-a1f92f2e14f4"
      },
      "outputs": [],
      "source": [
        "# encoding the categorical vairables sex and drugs as one hot encoding and others as label encoder\n",
        "from sklearn.preprocessing import OneHotEncoder ,LabelEncoder\n"
      ]
    },
    {
      "cell_type": "code",
      "execution_count": null,
      "id": "ea7e7030-a565-4cf8-991e-f4b43dba88eb",
      "metadata": {
        "id": "ea7e7030-a565-4cf8-991e-f4b43dba88eb"
      },
      "outputs": [],
      "source": [
        "drugs_df = pd.get_dummies(drugs_df, columns=[\"Sex\",\"Drug\"])"
      ]
    },
    {
      "cell_type": "code",
      "execution_count": null,
      "id": "f14b13c3-cd8c-4dd3-8b54-c4800a188674",
      "metadata": {
        "id": "f14b13c3-cd8c-4dd3-8b54-c4800a188674"
      },
      "outputs": [],
      "source": [
        "drugs_df"
      ]
    },
    {
      "cell_type": "code",
      "execution_count": null,
      "id": "b2e21ed8-8ec4-475f-8fcf-819cb4aea95d",
      "metadata": {
        "id": "b2e21ed8-8ec4-475f-8fcf-819cb4aea95d"
      },
      "outputs": [],
      "source": [
        "drugs_df[\"BP\"]=drugs_df[\"BP\"].replace({'LOW':1,'NORMAL':2,'HIGH':3})\n",
        "drugs_df[\"Cholesterol\"].replace({'LOW':1,'NORMAL':2,'HIGH':3},inplace=True)\n"
      ]
    },
    {
      "cell_type": "code",
      "execution_count": null,
      "id": "5ba3238e-ec5e-4067-b27e-a6f3d9a171ea",
      "metadata": {
        "id": "5ba3238e-ec5e-4067-b27e-a6f3d9a171ea"
      },
      "outputs": [],
      "source": [
        "drugs_df"
      ]
    },
    {
      "cell_type": "code",
      "execution_count": null,
      "id": "811540c1-481c-4e98-97b4-c028eafd6fbd",
      "metadata": {
        "id": "811540c1-481c-4e98-97b4-c028eafd6fbd"
      },
      "outputs": [],
      "source": [
        "# Splitting the data into dependent and independent variavble\n",
        "X = drugs_df.iloc[:,:-5]\n",
        "X"
      ]
    },
    {
      "cell_type": "code",
      "execution_count": null,
      "id": "b56a95fb-060e-4553-a5d8-aa5a018ccc7c",
      "metadata": {
        "id": "b56a95fb-060e-4553-a5d8-aa5a018ccc7c"
      },
      "outputs": [],
      "source": [
        "y = drugs_df.iloc[:,6:]\n",
        "y"
      ]
    },
    {
      "cell_type": "code",
      "execution_count": null,
      "id": "8169c5a0-bc08-400d-a546-ad0f97d6e59b",
      "metadata": {
        "id": "8169c5a0-bc08-400d-a546-ad0f97d6e59b"
      },
      "outputs": [],
      "source": [
        "X.shape,y.shape"
      ]
    },
    {
      "cell_type": "markdown",
      "source": [
        "Splitting the data into training and test set"
      ],
      "metadata": {
        "id": "K6BcNL5cjxV4"
      },
      "id": "K6BcNL5cjxV4"
    },
    {
      "cell_type": "code",
      "execution_count": null,
      "id": "0137a89f-11cf-4a9c-8c4a-e0b26b313891",
      "metadata": {
        "id": "0137a89f-11cf-4a9c-8c4a-e0b26b313891"
      },
      "outputs": [],
      "source": [
        "# Splitting the data into training and test set\n",
        "from sklearn.model_selection import train_test_split\n",
        "X_train,X_test,y_train,y_test = train_test_split(X,y,test_size=0.2,random_state=0)"
      ]
    },
    {
      "cell_type": "markdown",
      "source": [
        "Scaling the Data"
      ],
      "metadata": {
        "id": "G1FsPUAGjtAI"
      },
      "id": "G1FsPUAGjtAI"
    },
    {
      "cell_type": "code",
      "execution_count": null,
      "id": "68ac7668-4c10-4eb1-951a-f001b16f0beb",
      "metadata": {
        "id": "68ac7668-4c10-4eb1-951a-f001b16f0beb"
      },
      "outputs": [],
      "source": [
        "# Scaling the data\n",
        "from sklearn.preprocessing import StandardScaler\n",
        "sc=StandardScaler()\n",
        "X_train=sc.fit_transform(X_train)\n",
        "X_test=sc.fit_transform(X_test)"
      ]
    },
    {
      "cell_type": "code",
      "execution_count": null,
      "id": "4f8af086-fcb6-4d3f-ad4c-da3b53f0d71e",
      "metadata": {
        "id": "4f8af086-fcb6-4d3f-ad4c-da3b53f0d71e"
      },
      "outputs": [],
      "source": [
        "X_train"
      ]
    },
    {
      "cell_type": "code",
      "execution_count": null,
      "id": "5d56cc35-241b-479a-89b1-5ebf7f7b9daf",
      "metadata": {
        "id": "5d56cc35-241b-479a-89b1-5ebf7f7b9daf"
      },
      "outputs": [],
      "source": [
        "X_test"
      ]
    },
    {
      "cell_type": "markdown",
      "source": [
        "Build ANN Model"
      ],
      "metadata": {
        "id": "MC2NDPSDj1G-"
      },
      "id": "MC2NDPSDj1G-"
    },
    {
      "cell_type": "code",
      "execution_count": null,
      "id": "b9e4c0d1-9adb-4b81-a4cb-d0cb73fb42e1",
      "metadata": {
        "id": "b9e4c0d1-9adb-4b81-a4cb-d0cb73fb42e1"
      },
      "outputs": [],
      "source": [
        "# Buidling the ANN model\n",
        "from tensorflow.keras.models import Sequential\n",
        "from keras.layers import Dense\n",
        "from tensorflow.keras.losses import categorical_crossentropy\n"
      ]
    },
    {
      "cell_type": "code",
      "execution_count": null,
      "id": "a840ffd0-306f-4e9f-9f49-97c4a3f77e8c",
      "metadata": {
        "id": "a840ffd0-306f-4e9f-9f49-97c4a3f77e8c"
      },
      "outputs": [],
      "source": [
        "model = Sequential()"
      ]
    },
    {
      "cell_type": "code",
      "execution_count": null,
      "id": "a4fdc05f-2b26-4736-8388-fb96fe89394d",
      "metadata": {
        "id": "a4fdc05f-2b26-4736-8388-fb96fe89394d"
      },
      "outputs": [],
      "source": [
        "X.shape"
      ]
    },
    {
      "cell_type": "code",
      "execution_count": null,
      "id": "c8ca27b2-70a5-428e-b180-f13b212d5d0a",
      "metadata": {
        "id": "c8ca27b2-70a5-428e-b180-f13b212d5d0a"
      },
      "outputs": [],
      "source": [
        "model.add(Dense(units=6,activation='relu',kernel_initializer='random_uniform')) # input layer\n",
        "model.add(Dense(units=20,activation='relu',kernel_initializer='random_uniform')) # hidden layer 1\n",
        "model.add(Dense(units=20,activation='relu',kernel_initializer='random_uniform')) # hidden layer 2\n",
        "model.add(Dense(units=20,activation='relu',kernel_initializer='random_uniform')) # hidden layer 3\n",
        "model.add(Dense(units=5,activation='softmax',kernel_initializer='random_uniform')) # Output layer\n",
        "model.compile(optimizer='adam',loss=\"categorical_crossentropy\", metrics=['accuracy'])"
      ]
    },
    {
      "cell_type": "code",
      "execution_count": null,
      "id": "3cb952ef-b702-4fc3-8f83-80500cc564fd",
      "metadata": {
        "id": "3cb952ef-b702-4fc3-8f83-80500cc564fd"
      },
      "outputs": [],
      "source": [
        "X_train.shape,y_train.shape"
      ]
    },
    {
      "cell_type": "code",
      "execution_count": null,
      "id": "8e88832a-a3bc-447d-984d-011fd4c5e907",
      "metadata": {
        "id": "8e88832a-a3bc-447d-984d-011fd4c5e907"
      },
      "outputs": [],
      "source": [
        "model.fit(X_train,y_train,batch_size=32,epochs=200)"
      ]
    },
    {
      "cell_type": "code",
      "execution_count": null,
      "id": "228a56c5-f16d-4726-990c-3ca830edaf79",
      "metadata": {
        "id": "228a56c5-f16d-4726-990c-3ca830edaf79"
      },
      "outputs": [],
      "source": [
        "ypred=model.predict(X_test)\n",
        "ypred=np.argmax(ypred, axis=1)\n"
      ]
    },
    {
      "cell_type": "code",
      "execution_count": null,
      "id": "fb2eb6d6-ed19-4f33-a985-21d5952f1732",
      "metadata": {
        "id": "fb2eb6d6-ed19-4f33-a985-21d5952f1732"
      },
      "outputs": [],
      "source": [
        "y_test=np.array(y_test)\n",
        "y_test"
      ]
    },
    {
      "cell_type": "code",
      "execution_count": null,
      "id": "b873a905-f7fe-46f5-a9f2-2934091570d1",
      "metadata": {
        "id": "b873a905-f7fe-46f5-a9f2-2934091570d1"
      },
      "outputs": [],
      "source": [
        "y_test"
      ]
    },
    {
      "cell_type": "code",
      "execution_count": null,
      "id": "c2e564f4-aa96-426a-808d-3ce12a82c687",
      "metadata": {
        "id": "c2e564f4-aa96-426a-808d-3ce12a82c687"
      },
      "outputs": [],
      "source": [
        "ypred"
      ]
    },
    {
      "cell_type": "code",
      "execution_count": null,
      "id": "bdd94829-caec-49ca-b4ab-36e18e232ea9",
      "metadata": {
        "id": "bdd94829-caec-49ca-b4ab-36e18e232ea9"
      },
      "outputs": [],
      "source": [
        "df ={\n",
        "    'y_pred' :ypred,\n",
        "    'y_test' :indices_of_ones\n",
        "}\n",
        "pd.DataFrame(df)"
      ]
    },
    {
      "cell_type": "code",
      "execution_count": null,
      "id": "16eaaa63-6c51-4c02-99bc-42e809a7395c",
      "metadata": {
        "id": "16eaaa63-6c51-4c02-99bc-42e809a7395c"
      },
      "outputs": [],
      "source": [
        "indices_of_ones = []\n",
        "\n",
        "for i in range(len(y_test)):\n",
        "    for j in range(len(y_test[i])):\n",
        "        if y_test[i][j] == 1:\n",
        "            indices_of_ones.append(( j))\n",
        "\n",
        "print(indices_of_ones)"
      ]
    },
    {
      "cell_type": "code",
      "execution_count": null,
      "id": "e97fab16-ad03-489a-abd4-ab37bf093ed1",
      "metadata": {
        "id": "e97fab16-ad03-489a-abd4-ab37bf093ed1"
      },
      "outputs": [],
      "source": [
        "drugs_df.head(1)"
      ]
    },
    {
      "cell_type": "code",
      "execution_count": null,
      "id": "dc913e9a-a556-47a2-8894-d1878608b638",
      "metadata": {
        "id": "dc913e9a-a556-47a2-8894-d1878608b638"
      },
      "outputs": [],
      "source": [
        "X.shape"
      ]
    },
    {
      "cell_type": "code",
      "execution_count": null,
      "id": "47631fc3-b047-43ac-8cb0-ac821cc75185",
      "metadata": {
        "id": "47631fc3-b047-43ac-8cb0-ac821cc75185"
      },
      "outputs": [],
      "source": [
        "X.iloc[0]"
      ]
    },
    {
      "cell_type": "code",
      "execution_count": null,
      "id": "55753f21-6692-4aa3-9c4b-a4c05fe2c024",
      "metadata": {
        "id": "55753f21-6692-4aa3-9c4b-a4c05fe2c024"
      },
      "outputs": [],
      "source": [
        "ypred[0].argmax()"
      ]
    },
    {
      "cell_type": "code",
      "execution_count": null,
      "id": "df1af0cf-cac3-4572-9038-d25aa2f354b0",
      "metadata": {
        "id": "df1af0cf-cac3-4572-9038-d25aa2f354b0"
      },
      "outputs": [],
      "source": [
        "# y_test.iloc[0:1]"
      ]
    },
    {
      "cell_type": "code",
      "execution_count": null,
      "id": "6947d055-bbf7-4a74-a749-3c670a853b7c",
      "metadata": {
        "id": "6947d055-bbf7-4a74-a749-3c670a853b7c"
      },
      "outputs": [],
      "source": [
        "ypred.shape"
      ]
    },
    {
      "cell_type": "code",
      "execution_count": null,
      "id": "39fbf232-30c8-4cdc-8397-5d6b8545d4d4",
      "metadata": {
        "id": "39fbf232-30c8-4cdc-8397-5d6b8545d4d4"
      },
      "outputs": [],
      "source": [
        "X_train.shape,y_train.shape"
      ]
    },
    {
      "cell_type": "code",
      "execution_count": null,
      "id": "52676aff-f6dd-4d5e-a3d8-c19ba4ae698a",
      "metadata": {
        "id": "52676aff-f6dd-4d5e-a3d8-c19ba4ae698a"
      },
      "outputs": [],
      "source": [
        "X_test.shape,y_test.shape"
      ]
    },
    {
      "cell_type": "code",
      "execution_count": null,
      "id": "51837c67-4839-4828-8587-0a7a5f835f90",
      "metadata": {
        "id": "51837c67-4839-4828-8587-0a7a5f835f90"
      },
      "outputs": [],
      "source": [
        "from sklearn.metrics import accuracy_score\n",
        "cm= accuracy_score(indices_of_ones,ypred)\n",
        "cm"
      ]
    }
  ],
  "metadata": {
    "kernelspec": {
      "display_name": "Python 3 (ipykernel)",
      "language": "python",
      "name": "python3"
    },
    "language_info": {
      "codemirror_mode": {
        "name": "ipython",
        "version": 3
      },
      "file_extension": ".py",
      "mimetype": "text/x-python",
      "name": "python",
      "nbconvert_exporter": "python",
      "pygments_lexer": "ipython3",
      "version": "3.11.1"
    },
    "colab": {
      "provenance": []
    }
  },
  "nbformat": 4,
  "nbformat_minor": 5
}